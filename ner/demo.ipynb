{
 "cells": [
  {
   "cell_type": "code",
   "execution_count": 21,
   "metadata": {},
   "outputs": [
    {
     "data": {
      "text/plain": [
       "Model(\n",
       "  (bert): BertModel(\n",
       "    (embeddings): BertEmbeddings(\n",
       "      (word_embeddings): Embedding(30522, 768, padding_idx=0)\n",
       "      (position_embeddings): Embedding(512, 768)\n",
       "      (token_type_embeddings): Embedding(2, 768)\n",
       "      (LayerNorm): LayerNorm((768,), eps=1e-12, elementwise_affine=True)\n",
       "      (dropout): Dropout(p=0.1, inplace=False)\n",
       "    )\n",
       "    (encoder): BertEncoder(\n",
       "      (layer): ModuleList(\n",
       "        (0-11): 12 x BertLayer(\n",
       "          (attention): BertAttention(\n",
       "            (self): BertSelfAttention(\n",
       "              (query): Linear(in_features=768, out_features=768, bias=True)\n",
       "              (key): Linear(in_features=768, out_features=768, bias=True)\n",
       "              (value): Linear(in_features=768, out_features=768, bias=True)\n",
       "              (dropout): Dropout(p=0.1, inplace=False)\n",
       "            )\n",
       "            (output): BertSelfOutput(\n",
       "              (dense): Linear(in_features=768, out_features=768, bias=True)\n",
       "              (LayerNorm): LayerNorm((768,), eps=1e-12, elementwise_affine=True)\n",
       "              (dropout): Dropout(p=0.1, inplace=False)\n",
       "            )\n",
       "          )\n",
       "          (intermediate): BertIntermediate(\n",
       "            (dense): Linear(in_features=768, out_features=3072, bias=True)\n",
       "            (intermediate_act_fn): GELUActivation()\n",
       "          )\n",
       "          (output): BertOutput(\n",
       "            (dense): Linear(in_features=3072, out_features=768, bias=True)\n",
       "            (LayerNorm): LayerNorm((768,), eps=1e-12, elementwise_affine=True)\n",
       "            (dropout): Dropout(p=0.1, inplace=False)\n",
       "          )\n",
       "        )\n",
       "      )\n",
       "    )\n",
       "    (pooler): BertPooler(\n",
       "      (dense): Linear(in_features=768, out_features=768, bias=True)\n",
       "      (activation): Tanh()\n",
       "    )\n",
       "  )\n",
       "  (bert_drop): Dropout(p=0.3, inplace=False)\n",
       "  (out_tag): Linear(in_features=768, out_features=3, bias=True)\n",
       ")"
      ]
     },
     "execution_count": 21,
     "metadata": {},
     "output_type": "execute_result"
    }
   ],
   "source": [
    "import torch\n",
    "import string\n",
    "import pandas as pd\n",
    "from torch import cuda\n",
    "from sklearn.preprocessing import LabelEncoder\n",
    "\n",
    "from config import Config\n",
    "from dataset import Dataset\n",
    "from model import Model\n",
    "\n",
    "\n",
    "df = pd.read_csv('dataset.csv')\n",
    "\n",
    "\n",
    "le = LabelEncoder().fit(df['labels'])\n",
    "df['labels'] = le.transform(df['labels'])\n",
    "\n",
    "device = 'cuda' if cuda.is_available() else 'cpu'\n",
    "\n",
    "state_dict = torch.load('model.pth', map_location=torch.device(device))\n",
    "\n",
    "num_tag = len(df.labels.value_counts())\n",
    "\n",
    "model = Model(num_tag=num_tag)  # Make sure to instantiate your model first\n",
    "\n",
    "# Load the state dictionary into your model\n",
    "model.load_state_dict(state_dict)\n",
    "\n",
    "# Set the model to evaluation mode\n",
    "model.eval()\n"
   ]
  },
  {
   "cell_type": "code",
   "execution_count": 22,
   "metadata": {},
   "outputs": [],
   "source": [
    "def prediction(test_sentence, model, le):\n",
    "    for i in list(string.punctuation):\n",
    "        test_sentence = test_sentence.replace(i, ' ' + i)\n",
    "    test_sentence = test_sentence.split()\n",
    "    print(test_sentence)\n",
    "    Token_inputs = Config.TOKENIZER.encode(test_sentence, add_special_tokens=False)\n",
    "    print(Token_inputs)\n",
    "    test_dataset =  Dataset(test_sentence, tags= [[1] * len(test_sentence)], tokenizer=Config.TOKENIZER)\n",
    "    num_tag = len(le.classes_)\n",
    "   \n",
    "    with torch.no_grad():\n",
    "        data = test_dataset[0]\n",
    "        for i, j in data.items():\n",
    "            data[i] = j.to(device).unsqueeze(0)\n",
    "        tag, _ = model(**data)\n",
    "\n",
    "        print(le.inverse_transform(tag.argmax(2).cpu().numpy().reshape(-1))[1:len(Token_inputs)+1])\n",
    "        \n"
   ]
  },
  {
   "cell_type": "code",
   "execution_count": 23,
   "metadata": {},
   "outputs": [
    {
     "name": "stdout",
     "output_type": "stream",
     "text": [
      "['Makovytsia', ',', 'with', 'its', 'accessible', 'trails', ',', 'is', 'suitable', 'for', 'hikers', 'of', 'all', 'skill', 'levels', '.']\n",
      "[100, 1010, 2007, 2049, 7801, 9612, 1010, 2003, 7218, 2005, 100, 1997, 2035, 8066, 3798, 1012]\n",
      "['B-MOUNTAIN' 'O' 'O' 'O' 'O' 'O' 'O' 'O' 'O' 'O' 'B-MOUNTAIN' 'O' 'O' 'O'\n",
      " 'O' 'O']\n",
      "['Petros', \"'\", 'summit', ',', 'kissed', 'by', 'the', 'first', 'light', 'of', 'dawn', ',', 'is', 'a', 'magical', 'moment', 'for', 'early', 'risers', '.']\n",
      "[100, 1005, 6465, 1010, 4782, 2011, 1996, 2034, 2422, 1997, 6440, 1010, 2003, 1037, 8687, 2617, 2005, 2220, 100, 1012]\n",
      "['O' 'O' 'O' 'O' 'O' 'O' 'B-MOUNTAIN' 'O' 'O' 'O' 'O' 'O' 'O' 'O' 'O' 'O'\n",
      " 'O' 'O' 'O' 'O']\n",
      "['Shpici', ',', 'hidden', 'away', 'from', 'the', 'tourist', 'crowds', ',', 'provides', 'a', 'tranquil', 'escape', 'for', 'those', 'seeking', 'solitude', '.']\n",
      "[100, 1010, 5023, 2185, 2013, 1996, 7538, 12783, 1010, 3640, 1037, 100, 4019, 2005, 2216, 6224, 22560, 1012]\n",
      "['O' 'O' 'O' 'O' 'O' 'O' 'B-MOUNTAIN' 'O' 'O' 'O' 'B-MOUNTAIN'\n",
      " 'B-MOUNTAIN' 'B-MOUNTAIN' 'B-MOUNTAIN' 'O' 'O' 'O' 'O']\n",
      "['The', 'valleys', 'surrounding', 'Hoverla', 'are', 'home', 'to', 'unique', 'plant', 'species', 'adapted', 'to', 'the', 'mountainous', 'climate', '.']\n",
      "[100, 12467, 4193, 100, 2024, 2188, 2000, 4310, 3269, 2427, 5967, 2000, 1996, 14897, 4785, 1012]\n",
      "['O' 'O' 'O' 'B-MOUNTAIN' 'O' 'O' 'O' 'O' 'O' 'O' 'O' 'O' 'O' 'O' 'O' 'O']\n",
      "['Sinyak', \"'s\", 'craggy', 'peaks', 'are', 'silhouetted', 'against', 'the', 'evening', 'sky', ',', 'creating', 'a', 'dramatic', 'scene', '.']\n",
      "[100, 100, 100, 11373, 2024, 100, 2114, 1996, 3944, 3712, 1010, 4526, 1037, 6918, 3496, 1012]\n",
      "['O' 'O' 'O' 'O' 'O' 'O' 'B-MOUNTAIN' 'O' 'O' 'O' 'O' 'O' 'O' 'B-MOUNTAIN'\n",
      " 'O' 'O']\n",
      "['Makovytsia', \"'s\", 'diverse', 'ecosystem', 'supports', 'a', 'variety', 'of', 'wildlife', ',', 'from', 'butterflies', 'to', 'elusive', 'mammals', '.']\n",
      "[100, 100, 7578, 16927, 6753, 1037, 3528, 1997, 6870, 1010, 2013, 15023, 2000, 26475, 11993, 1012]\n",
      "['B-MOUNTAIN' 'O' 'O' 'O' 'O' 'O' 'O' 'O' 'O' 'O' 'B-MOUNTAIN' 'O' 'O' 'O'\n",
      " 'O' 'O']\n",
      "['Petros', ',', 'with', 'its', 'challenging', 'ascent', ',', 'attracts', 'climbers', 'from', 'around', 'the', 'world', '.']\n",
      "[100, 1010, 2007, 2049, 10368, 16354, 1010, 17771, 100, 2013, 2105, 1996, 2088, 1012]\n",
      "['O' 'O' 'O' 'O' 'O' 'O' 'B-MOUNTAIN' 'O' 'O' 'O' 'O' 'O' 'O' 'O']\n",
      "['Shpici', \"'s\", 'remote', 'location', 'allows', 'for', 'stargazing', ',', 'offering', 'a', 'clear', 'view', 'of', 'the', 'night', 'sky', '.']\n",
      "[100, 100, 6556, 3295, 4473, 2005, 100, 1010, 5378, 1037, 3154, 3193, 1997, 1996, 2305, 3712, 1012]\n",
      "['O' 'O' 'O' 'O' 'O' 'O' 'B-MOUNTAIN' 'O' 'O' 'O' 'B-MOUNTAIN'\n",
      " 'B-MOUNTAIN' 'B-MOUNTAIN' 'B-MOUNTAIN' 'O' 'O' 'O']\n"
     ]
    }
   ],
   "source": [
    "test_sentences = [\n",
    "    \"Makovytsia, with its accessible trails, is suitable for hikers of all skill levels.\",\n",
    "    \"Petros' summit, kissed by the first light of dawn, is a magical moment for early risers.\",\n",
    "    \"Shpici, hidden away from the tourist crowds, provides a tranquil escape for those seeking solitude.\",\n",
    "    \"The valleys surrounding Hoverla are home to unique plant species adapted to the mountainous climate.\",\n",
    "    \"Sinyak's craggy peaks are silhouetted against the evening sky, creating a dramatic scene.\",\n",
    "    \"Makovytsia's diverse ecosystem supports a variety of wildlife, from butterflies to elusive mammals.\",\n",
    "    \"Petros, with its challenging ascent, attracts climbers from around the world.\",\n",
    "    \"Shpici's remote location allows for stargazing, offering a clear view of the night sky.\"\n",
    "    ]\n",
    "\n",
    "for test_sentence in test_sentences:\n",
    "    prediction(test_sentence, model, le)"
   ]
  },
  {
   "cell_type": "code",
   "execution_count": null,
   "metadata": {},
   "outputs": [],
   "source": []
  }
 ],
 "metadata": {
  "kernelspec": {
   "display_name": ".venv",
   "language": "python",
   "name": "python3"
  },
  "language_info": {
   "codemirror_mode": {
    "name": "ipython",
    "version": 3
   },
   "file_extension": ".py",
   "mimetype": "text/x-python",
   "name": "python",
   "nbconvert_exporter": "python",
   "pygments_lexer": "ipython3",
   "version": "3.11.5"
  }
 },
 "nbformat": 4,
 "nbformat_minor": 2
}
